{
 "cells": [
  {
   "cell_type": "markdown",
   "metadata": {},
   "source": [
    "# Importando biblioteca"
   ]
  },
  {
   "cell_type": "code",
   "execution_count": 1,
   "metadata": {},
   "outputs": [],
   "source": [
    "import warnings\n",
    "warnings.filterwarnings('ignore')\n",
    "import pandas as pd\n",
    "import matplotlib.pyplot as plt"
   ]
  },
  {
   "cell_type": "markdown",
   "metadata": {},
   "source": [
    "# Sobre a base de dados\n",
    "\n",
    "O conjunto de dados MNIST (Modified National Institute of Standards and Technology) é uma grande base de dados de dígitos manuscritos que é normalmente utilizada para treinar vários sistemas de processamento de imagem e modelos de aprendizagem automática. Foi criado através da \"re-mistura\" das amostras dos conjuntos de dados originais do NIST e tornou-se uma referência para avaliar o desempenho dos algoritmos de classificação de imagens."
   ]
  },
  {
   "cell_type": "markdown",
   "metadata": {},
   "source": [
    "# Características principais\n",
    "\n",
    ". A MNIST contém 60.000 imagens de treino e 10.000 imagens de teste de dígitos manuscritos.  \n",
    "\n",
    ". O conjunto de dados inclui imagens em escala de cinzentos de tamanho 28x28 pixéis.  \n",
    "\n",
    ". As imagens são normalizadas para caberem numa caixa delimitadora de 28x28 pixéis e anti-aliased, introduzindo níveis de escala de cinzentos.  \n",
    "\n",
    ". A MNIST é amplamente utilizada para treino e teste no domínio da aprendizagem automática, especialmente para tarefas de classificação de imagens.  \n"
   ]
  },
  {
   "cell_type": "markdown",
   "metadata": {},
   "source": [
    "# Estrutura do conjunto de dados\n",
    "\n",
    "O conjunto de dados MNIST está dividido em dois subconjuntos:\n",
    "\n",
    "1. Conjunto de treino: Este subconjunto contém 60.000 imagens de dígitos manuscritos utilizados para treinar modelos de aprendizagem automática.\n",
    "2. Conjunto de teste: Este subconjunto consiste em 10.000 imagens utilizadas para testar e avaliar os modelos treinados.\n"
   ]
  },
  {
   "cell_type": "markdown",
   "metadata": {},
   "source": [
    "# Importação e Análise do Dataset"
   ]
  },
  {
   "cell_type": "code",
   "execution_count": 2,
   "metadata": {},
   "outputs": [],
   "source": [
    "from tensorflow.keras.datasets import mnist\n",
    "\n",
    "(x_treino, y_treino), (x_teste, y_teste) = mnist.load_data()"
   ]
  },
  {
   "cell_type": "code",
   "execution_count": 3,
   "metadata": {},
   "outputs": [
    {
     "data": {
      "text/plain": [
       "0     9.87\n",
       "1    11.24\n",
       "2     9.93\n",
       "3    10.22\n",
       "4     9.74\n",
       "5     9.04\n",
       "6     9.86\n",
       "7    10.44\n",
       "8     9.75\n",
       "9     9.92\n",
       "Name: count, dtype: float64"
      ]
     },
     "execution_count": 3,
     "metadata": {},
     "output_type": "execute_result"
    }
   ],
   "source": [
    "y_treino = pd.Series(data=y_treino)\n",
    "dfreq = round(y_treino.value_counts()/len(y_treino)*100, 2)\n",
    "dfreq.sort_index()"
   ]
  },
  {
   "cell_type": "code",
   "execution_count": 4,
   "metadata": {},
   "outputs": [
    {
     "data": {
      "image/png": "[encoded data removed]",
      "text/plain": [
       "<Figure size 1200x600 with 10 Axes>"
      ]
     },
     "metadata": {},
     "output_type": "display_data"
    }
   ],
   "source": [
    "classes = [0, 1, 2, 3, 4, 5, 6, 7, 8, 9] \n",
    "indices = [1, 6, 5, 7, 2, 0, 13, 15, 17, 4]\n",
    "\n",
    "# Definindo o número de linhas e colunas para os subplots\n",
    "num_rows = 2\n",
    "num_cols = 5\n",
    "\n",
    "fig, axes = plt.subplots(num_rows, num_cols, figsize=(12, 6))\n",
    "\n",
    "for i, idx in enumerate(indices):\n",
    "    row = i // num_cols\n",
    "    col = i % num_cols\n",
    "    axes[row, col].imshow(x_treino[idx], cmap='gray')\n",
    "    axes[row, col].axis('off')\n",
    "    axes[row, col].set_title(f'Classe {classes[i]}')\n",
    "\n",
    "plt.tight_layout()\n",
    "plt.show()"
   ]
  },
  {
   "cell_type": "code",
   "execution_count": 5,
   "metadata": {},
   "outputs": [
    {
     "data": {
      "text/plain": [
       "((60000, 28, 28), (10000, 28, 28))"
      ]
     },
     "execution_count": 5,
     "metadata": {},
     "output_type": "execute_result"
    }
   ],
   "source": [
    "x_treino.shape, x_teste.shape"
   ]
  },
  {
   "cell_type": "markdown",
   "metadata": {},
   "source": [
    "# Normalização e pre-processamento dos dados\n",
    "\n",
    "Pelo fato do dataset ja estar praticamente preparado para uso, só teremos uma etapa de pré-processamento que será a conversão dos dados de output de treino e teste em uma matriz com colunas sendo respectivas a cada categoria/classe presenta no dataset. A outra etapa será apenas uma normalização de valores. Como os pixeis estão entre valores entre 0 e 255, iremos normalizar dividindo o valor de um pixel x por 255 para que o valor de x fique entre 0 e 1 e daremos um reshape para transformar a matriz em um array que será correspondente a uma linha do dataframe"
   ]
  },
  {
   "cell_type": "code",
   "execution_count": 6,
   "metadata": {},
   "outputs": [
    {
     "data": {
      "text/plain": [
       "dtype('float32')"
      ]
     },
     "execution_count": 6,
     "metadata": {},
     "output_type": "execute_result"
    }
   ],
   "source": [
    "x_treino = x_treino.reshape((60000, 28*28)).astype('float32') / 255\n",
    "x_teste = x_teste.reshape((10000, 28*28)).astype('float32') / 255\n",
    "\n",
    "x_treino.dtype"
   ]
  },
  {
   "cell_type": "code",
   "execution_count": 7,
   "metadata": {},
   "outputs": [
    {
     "data": {
      "text/plain": [
       "array([[0., 0., 0., ..., 0., 0., 0.],\n",
       "       [0., 0., 0., ..., 0., 0., 0.],\n",
       "       [0., 0., 0., ..., 0., 0., 0.],\n",
       "       ...,\n",
       "       [0., 0., 0., ..., 0., 0., 0.],\n",
       "       [0., 0., 0., ..., 0., 0., 0.],\n",
       "       [0., 0., 0., ..., 0., 0., 0.]], dtype=float32)"
      ]
     },
     "execution_count": 7,
     "metadata": {},
     "output_type": "execute_result"
    }
   ],
   "source": [
    "x_treino"
   ]
  },
  {
   "cell_type": "code",
   "execution_count": 8,
   "metadata": {},
   "outputs": [
    {
     "data": {
      "text/plain": [
       "(array([[0., 0., 0., ..., 0., 0., 0.],\n",
       "        [1., 0., 0., ..., 0., 0., 0.],\n",
       "        [0., 0., 0., ..., 0., 0., 0.],\n",
       "        ...,\n",
       "        [0., 0., 0., ..., 0., 0., 0.],\n",
       "        [0., 0., 0., ..., 0., 0., 0.],\n",
       "        [0., 0., 0., ..., 0., 1., 0.]]),\n",
       " array([[0., 0., 0., ..., 1., 0., 0.],\n",
       "        [0., 0., 1., ..., 0., 0., 0.],\n",
       "        [0., 1., 0., ..., 0., 0., 0.],\n",
       "        ...,\n",
       "        [0., 0., 0., ..., 0., 0., 0.],\n",
       "        [0., 0., 0., ..., 0., 0., 0.],\n",
       "        [0., 0., 0., ..., 0., 0., 0.]]))"
      ]
     },
     "execution_count": 8,
     "metadata": {},
     "output_type": "execute_result"
    }
   ],
   "source": [
    "from keras.utils import to_categorical\n",
    "\n",
    "y_treino = to_categorical(y_treino) \n",
    "y_teste = to_categorical(y_teste) \n",
    "\n",
    "y_treino, y_teste"
   ]
  },
  {
   "cell_type": "markdown",
   "metadata": {},
   "source": [
    "# Sobre o modelo\n",
    "\n",
    "Usando o dataset MINIST com imagens de 28X28 pixels, foi feita a seguinte rede neural:\n",
    "\n",
    ".Uma Rede Neural DENSA cujo objetivo é classificar a que classe (numeros de 0 a 9) pertence cada imagem dentro do dataset  \n",
    ".Foi utilizada a função de ativação ReLu para as camadas ocultas, e para a camada de saída foi utilizada a softmax  \n",
    ".A rede neural possui 784 neuronios na camada de entrada pelo fato de possuir 784 pixeis em cada imagem(28*28)  \n",
    ".Possui duas camada ocultas com 30 neuronios  \n",
    ".E a camada de saída com 10 neuronios respectivos a quantidade de classes(numeros de 0 a 9) que temos na saída y do dataset   \n",
    ".Como otimizadores verificaremos a perfomance do gradiente\n",
    ".A função de custo(conhecida tambem como loss ou erro) utilizada foi a categorical_crossentropy\n",
    "\n",
    "Obs: Com isso nosso modelo possui um total de aproximadamente 25.000 variáveis(Pesos e bias)"
   ]
  },
  {
   "cell_type": "markdown",
   "metadata": {},
   "source": [
    "<center><img src=\"./imagens/Rede_neural_profunda(MINIST).png\"/></center>"
   ]
  },
  {
   "cell_type": "markdown",
   "metadata": {},
   "source": [
    "# Compilação e treinamento dos modelos\n",
    "\n",
    "Compilação do modelo:\n",
    "A métrica usada para validação do eficiencia do modelo foi a métrica da acuracia  \n",
    "A função de custo(loss ou erro, como preferir) foi definida como a categorical_crossentropy  \n",
    "O otimizador como o Gradiente descendente estocàstico  "
   ]
  },
  {
   "cell_type": "code",
   "execution_count": 9,
   "metadata": {},
   "outputs": [],
   "source": [
    "from tensorflow.keras.models import Sequential\n",
    "from tensorflow.keras.layers import Dense, Activation, Dropout\n",
    "from tensorflow.keras.optimizers import SGD"
   ]
  },
  {
   "cell_type": "code",
   "execution_count": 10,
   "metadata": {},
   "outputs": [],
   "source": [
    "#Criando modelo de rede neural e adicionando as camadas\n",
    "modelo = Sequential()\n",
    "\n",
    "#Adicionando camada oculta C1 com o numero de entradas igual a 784 que e o numero total de pixeis\n",
    "modelo.add(Dense(30, activation='relu', kernel_initializer='normal', input_dim=x_treino.shape[1]))\n",
    "\n",
    "#Adicionando outra camada oculta C2\n",
    "modelo.add(Dense(30, activation='relu', kernel_initializer='normal'))\n",
    "\n",
    "#Adicionando neuronios da camada de saída onde cada neuronio corresponde a uma classe específica do dataset\n",
    "modelo.add(Dense(y_treino.shape[1], activation='softmax', kernel_initializer='normal'))"
   ]
  },
  {
   "cell_type": "code",
   "execution_count": 11,
   "metadata": {},
   "outputs": [],
   "source": [
    "otimizador = SGD() # Gradiente descendente estocastico"
   ]
  },
  {
   "cell_type": "code",
   "execution_count": 12,
   "metadata": {},
   "outputs": [],
   "source": [
    "#Definindo a compilaçao do modelo como a função de custo sendo a cross-entropy, otimizador o Gradiente descendente estocastico, a métrica de avaliação e eficiencia do modelo sendo a acuracia\n",
    "modelo.compile(loss='categorical_crossentropy', optimizer=otimizador, metrics=['acc'], ) "
   ]
  },
  {
   "cell_type": "markdown",
   "metadata": {},
   "source": [
    "Treinamento do modelo:  \n",
    "\n",
    "O modelo foi treinado por 100 epochs(épocas), o que significa que ele passou pelo conjunto de dados de treinamento 100 vezes.  \n",
    "\n",
    "Com o tamanho do lote do gradiente descendente estocástico (batch_size) igual a 100, o número de iterações por época será 600 (60.000 exemplos no conjunto de dados dividido pelo tamanho do lote de 100). Portanto, os pesos e os vieses serão atualizados 60.000 vezes ao longo de 100 épocas dentro da rede neural.  \n",
    "\n",
    "Utilizamos os dados de teste como validação para verificar a presença de overfitting. Como o conjunto de dados não é muito grande, isso nos permite avaliar o desempenho do modelo e ajustar os hiperparâmetros de forma mais eficaz.  "
   ]
  },
  {
   "cell_type": "code",
   "execution_count": 13,
   "metadata": {},
   "outputs": [
    {
     "name": "stdout",
     "output_type": "stream",
     "text": [
      "Epoch 1/100\n",
      "\u001b[1m600/600\u001b[0m \u001b[32m━━━━━━━━━━━━━━━━━━━━\u001b[0m\u001b[37m\u001b[0m \u001b[1m2s\u001b[0m 2ms/step - acc: 0.1739 - loss: 2.2982 - val_acc: 0.3744 - val_loss: 2.2653\n",
      "Epoch 2/100\n",
      "\u001b[1m600/600\u001b[0m \u001b[32m━━━━━━━━━━━━━━━━━━━━\u001b[0m\u001b[37m\u001b[0m \u001b[1m1s\u001b[0m 1ms/step - acc: 0.4007 - loss: 2.2174 - val_acc: 0.4828 - val_loss: 1.7894\n",
      "Epoch 3/100\n",
      "\u001b[1m600/600\u001b[0m \u001b[32m━━━━━━━━━━━━━━━━━━━━\u001b[0m\u001b[37m\u001b[0m \u001b[1m1s\u001b[0m 1ms/step - acc: 0.5708 - loss: 1.4937 - val_acc: 0.7416 - val_loss: 0.8465\n",
      "Epoch 4/100\n",
      "\u001b[1m600/600\u001b[0m \u001b[32m━━━━━━━━━━━━━━━━━━━━\u001b[0m\u001b[37m\u001b[0m \u001b[1m1s\u001b[0m 1ms/step - acc: 0.7494 - loss: 0.8028 - val_acc: 0.7977 - val_loss: 0.6515\n",
      "Epoch 5/100\n",
      "\u001b[1m600/600\u001b[0m \u001b[32m━━━━━━━━━━━━━━━━━━━━\u001b[0m\u001b[37m\u001b[0m \u001b[1m1s\u001b[0m 1ms/step - acc: 0.8040 - loss: 0.6406 - val_acc: 0.8365 - val_loss: 0.5478\n",
      "Epoch 6/100\n",
      "\u001b[1m600/600\u001b[0m \u001b[32m━━━━━━━━━━━━━━━━━━━━\u001b[0m\u001b[37m\u001b[0m \u001b[1m1s\u001b[0m 1ms/step - acc: 0.8382 - loss: 0.5414 - val_acc: 0.8573 - val_loss: 0.4801\n",
      "Epoch 7/100\n",
      "\u001b[1m600/600\u001b[0m \u001b[32m━━━━━━━━━━━━━━━━━━━━\u001b[0m\u001b[37m\u001b[0m \u001b[1m1s\u001b[0m 1ms/step - acc: 0.8609 - loss: 0.4810 - val_acc: 0.8675 - val_loss: 0.4435\n",
      "Epoch 8/100\n",
      "\u001b[1m600/600\u001b[0m \u001b[32m━━━━━━━━━━━━━━━━━━━━\u001b[0m\u001b[37m\u001b[0m \u001b[1m1s\u001b[0m 1ms/step - acc: 0.8757 - loss: 0.4401 - val_acc: 0.8774 - val_loss: 0.4128\n",
      "Epoch 9/100\n",
      "\u001b[1m600/600\u001b[0m \u001b[32m━━━━━━━━━━━━━━━━━━━━\u001b[0m\u001b[37m\u001b[0m \u001b[1m1s\u001b[0m 1ms/step - acc: 0.8841 - loss: 0.4131 - val_acc: 0.8827 - val_loss: 0.3905\n",
      "Epoch 10/100\n",
      "\u001b[1m600/600\u001b[0m \u001b[32m━━━━━━━━━━━━━━━━━━━━\u001b[0m\u001b[37m\u001b[0m \u001b[1m1s\u001b[0m 1ms/step - acc: 0.8887 - loss: 0.3904 - val_acc: 0.8908 - val_loss: 0.3716\n",
      "Epoch 11/100\n",
      "\u001b[1m600/600\u001b[0m \u001b[32m━━━━━━━━━━━━━━━━━━━━\u001b[0m\u001b[37m\u001b[0m \u001b[1m1s\u001b[0m 1ms/step - acc: 0.8957 - loss: 0.3664 - val_acc: 0.8945 - val_loss: 0.3579\n",
      "Epoch 12/100\n",
      "\u001b[1m600/600\u001b[0m \u001b[32m━━━━━━━━━━━━━━━━━━━━\u001b[0m\u001b[37m\u001b[0m \u001b[1m1s\u001b[0m 1ms/step - acc: 0.8979 - loss: 0.3649 - val_acc: 0.9004 - val_loss: 0.3450\n",
      "Epoch 13/100\n",
      "\u001b[1m600/600\u001b[0m \u001b[32m━━━━━━━━━━━━━━━━━━━━\u001b[0m\u001b[37m\u001b[0m \u001b[1m1s\u001b[0m 1ms/step - acc: 0.8995 - loss: 0.3566 - val_acc: 0.9017 - val_loss: 0.3339\n",
      "Epoch 14/100\n",
      "\u001b[1m600/600\u001b[0m \u001b[32m━━━━━━━━━━━━━━━━━━━━\u001b[0m\u001b[37m\u001b[0m \u001b[1m1s\u001b[0m 1ms/step - acc: 0.9049 - loss: 0.3368 - val_acc: 0.9037 - val_loss: 0.3250\n",
      "Epoch 15/100\n",
      "\u001b[1m600/600\u001b[0m \u001b[32m━━━━━━━━━━━━━━━━━━━━\u001b[0m\u001b[37m\u001b[0m \u001b[1m1s\u001b[0m 1ms/step - acc: 0.9114 - loss: 0.3153 - val_acc: 0.9099 - val_loss: 0.3127\n",
      "Epoch 16/100\n",
      "\u001b[1m600/600\u001b[0m \u001b[32m━━━━━━━━━━━━━━━━━━━━\u001b[0m\u001b[37m\u001b[0m \u001b[1m1s\u001b[0m 1ms/step - acc: 0.9121 - loss: 0.3137 - val_acc: 0.9148 - val_loss: 0.3024\n",
      "Epoch 17/100\n",
      "\u001b[1m600/600\u001b[0m \u001b[32m━━━━━━━━━━━━━━━━━━━━\u001b[0m\u001b[37m\u001b[0m \u001b[1m1s\u001b[0m 1ms/step - acc: 0.9181 - loss: 0.2909 - val_acc: 0.9172 - val_loss: 0.2911\n",
      "Epoch 18/100\n",
      "\u001b[1m600/600\u001b[0m \u001b[32m━━━━━━━━━━━━━━━━━━━━\u001b[0m\u001b[37m\u001b[0m \u001b[1m1s\u001b[0m 1ms/step - acc: 0.9186 - loss: 0.2903 - val_acc: 0.9187 - val_loss: 0.2845\n",
      "Epoch 19/100\n",
      "\u001b[1m600/600\u001b[0m \u001b[32m━━━━━━━━━━━━━━━━━━━━\u001b[0m\u001b[37m\u001b[0m \u001b[1m1s\u001b[0m 1ms/step - acc: 0.9203 - loss: 0.2847 - val_acc: 0.9204 - val_loss: 0.2737\n",
      "Epoch 20/100\n",
      "\u001b[1m600/600\u001b[0m \u001b[32m━━━━━━━━━━━━━━━━━━━━\u001b[0m\u001b[37m\u001b[0m \u001b[1m1s\u001b[0m 1ms/step - acc: 0.9220 - loss: 0.2748 - val_acc: 0.9234 - val_loss: 0.2641\n",
      "Epoch 21/100\n",
      "\u001b[1m600/600\u001b[0m \u001b[32m━━━━━━━━━━━━━━━━━━━━\u001b[0m\u001b[37m\u001b[0m \u001b[1m1s\u001b[0m 1ms/step - acc: 0.9277 - loss: 0.2589 - val_acc: 0.9266 - val_loss: 0.2568\n",
      "Epoch 22/100\n",
      "\u001b[1m600/600\u001b[0m \u001b[32m━━━━━━━━━━━━━━━━━━━━\u001b[0m\u001b[37m\u001b[0m \u001b[1m1s\u001b[0m 1ms/step - acc: 0.9274 - loss: 0.2553 - val_acc: 0.9279 - val_loss: 0.2492\n",
      "Epoch 23/100\n",
      "\u001b[1m600/600\u001b[0m \u001b[32m━━━━━━━━━━━━━━━━━━━━\u001b[0m\u001b[37m\u001b[0m \u001b[1m1s\u001b[0m 1ms/step - acc: 0.9304 - loss: 0.2480 - val_acc: 0.9301 - val_loss: 0.2421\n",
      "Epoch 24/100\n",
      "\u001b[1m600/600\u001b[0m \u001b[32m━━━━━━━━━━━━━━━━━━━━\u001b[0m\u001b[37m\u001b[0m \u001b[1m1s\u001b[0m 1ms/step - acc: 0.9319 - loss: 0.2419 - val_acc: 0.9321 - val_loss: 0.2343\n",
      "Epoch 25/100\n",
      "\u001b[1m600/600\u001b[0m \u001b[32m━━━━━━━━━━━━━━━━━━━━\u001b[0m\u001b[37m\u001b[0m \u001b[1m1s\u001b[0m 2ms/step - acc: 0.9347 - loss: 0.2300 - val_acc: 0.9331 - val_loss: 0.2276\n",
      "Epoch 26/100\n",
      "\u001b[1m600/600\u001b[0m \u001b[32m━━━━━━━━━━━━━━━━━━━━\u001b[0m\u001b[37m\u001b[0m \u001b[1m1s\u001b[0m 1ms/step - acc: 0.9376 - loss: 0.2227 - val_acc: 0.9356 - val_loss: 0.2225\n",
      "Epoch 27/100\n",
      "\u001b[1m600/600\u001b[0m \u001b[32m━━━━━━━━━━━━━━━━━━━━\u001b[0m\u001b[37m\u001b[0m \u001b[1m1s\u001b[0m 1ms/step - acc: 0.9367 - loss: 0.2236 - val_acc: 0.9369 - val_loss: 0.2173\n",
      "Epoch 28/100\n",
      "\u001b[1m600/600\u001b[0m \u001b[32m━━━━━━━━━━━━━━━━━━━━\u001b[0m\u001b[37m\u001b[0m \u001b[1m1s\u001b[0m 1ms/step - acc: 0.9379 - loss: 0.2182 - val_acc: 0.9374 - val_loss: 0.2125\n",
      "Epoch 29/100\n",
      "\u001b[1m600/600\u001b[0m \u001b[32m━━━━━━━━━━━━━━━━━━━━\u001b[0m\u001b[37m\u001b[0m \u001b[1m1s\u001b[0m 1ms/step - acc: 0.9417 - loss: 0.2081 - val_acc: 0.9411 - val_loss: 0.2059\n",
      "Epoch 30/100\n",
      "\u001b[1m600/600\u001b[0m \u001b[32m━━━━━━━━━━━━━━━━━━━━\u001b[0m\u001b[37m\u001b[0m \u001b[1m1s\u001b[0m 1ms/step - acc: 0.9419 - loss: 0.2008 - val_acc: 0.9419 - val_loss: 0.2015\n",
      "Epoch 31/100\n",
      "\u001b[1m600/600\u001b[0m \u001b[32m━━━━━━━━━━━━━━━━━━━━\u001b[0m\u001b[37m\u001b[0m \u001b[1m1s\u001b[0m 1ms/step - acc: 0.9454 - loss: 0.1953 - val_acc: 0.9430 - val_loss: 0.1975\n",
      "Epoch 32/100\n",
      "\u001b[1m600/600\u001b[0m \u001b[32m━━━━━━━━━━━━━━━━━━━━\u001b[0m\u001b[37m\u001b[0m \u001b[1m1s\u001b[0m 1ms/step - acc: 0.9447 - loss: 0.1908 - val_acc: 0.9445 - val_loss: 0.1946\n",
      "Epoch 33/100\n",
      "\u001b[1m600/600\u001b[0m \u001b[32m━━━━━━━━━━━━━━━━━━━━\u001b[0m\u001b[37m\u001b[0m \u001b[1m1s\u001b[0m 1ms/step - acc: 0.9461 - loss: 0.1927 - val_acc: 0.9445 - val_loss: 0.1922\n",
      "Epoch 34/100\n",
      "\u001b[1m600/600\u001b[0m \u001b[32m━━━━━━━━━━━━━━━━━━━━\u001b[0m\u001b[37m\u001b[0m \u001b[1m1s\u001b[0m 1ms/step - acc: 0.9475 - loss: 0.1860 - val_acc: 0.9461 - val_loss: 0.1871\n",
      "Epoch 35/100\n",
      "\u001b[1m600/600\u001b[0m \u001b[32m━━━━━━━━━━━━━━━━━━━━\u001b[0m\u001b[37m\u001b[0m \u001b[1m1s\u001b[0m 1ms/step - acc: 0.9494 - loss: 0.1785 - val_acc: 0.9470 - val_loss: 0.1830\n",
      "Epoch 36/100\n",
      "\u001b[1m600/600\u001b[0m \u001b[32m━━━━━━━━━━━━━━━━━━━━\u001b[0m\u001b[37m\u001b[0m \u001b[1m1s\u001b[0m 1ms/step - acc: 0.9493 - loss: 0.1787 - val_acc: 0.9466 - val_loss: 0.1810\n",
      "Epoch 37/100\n",
      "\u001b[1m600/600\u001b[0m \u001b[32m━━━━━━━━━━━━━━━━━━━━\u001b[0m\u001b[37m\u001b[0m \u001b[1m1s\u001b[0m 1ms/step - acc: 0.9507 - loss: 0.1727 - val_acc: 0.9483 - val_loss: 0.1766\n",
      "Epoch 38/100\n",
      "\u001b[1m600/600\u001b[0m \u001b[32m━━━━━━━━━━━━━━━━━━━━\u001b[0m\u001b[37m\u001b[0m \u001b[1m1s\u001b[0m 1ms/step - acc: 0.9498 - loss: 0.1772 - val_acc: 0.9490 - val_loss: 0.1739\n",
      "Epoch 39/100\n",
      "\u001b[1m600/600\u001b[0m \u001b[32m━━━━━━━━━━━━━━━━━━━━\u001b[0m\u001b[37m\u001b[0m \u001b[1m1s\u001b[0m 1ms/step - acc: 0.9529 - loss: 0.1653 - val_acc: 0.9494 - val_loss: 0.1715\n",
      "Epoch 40/100\n",
      "\u001b[1m600/600\u001b[0m \u001b[32m━━━━━━━━━━━━━━━━━━━━\u001b[0m\u001b[37m\u001b[0m \u001b[1m1s\u001b[0m 1ms/step - acc: 0.9534 - loss: 0.1634 - val_acc: 0.9508 - val_loss: 0.1687\n",
      "Epoch 41/100\n",
      "\u001b[1m600/600\u001b[0m \u001b[32m━━━━━━━━━━━━━━━━━━━━\u001b[0m\u001b[37m\u001b[0m \u001b[1m1s\u001b[0m 1ms/step - acc: 0.9524 - loss: 0.1646 - val_acc: 0.9515 - val_loss: 0.1660\n",
      "Epoch 42/100\n",
      "\u001b[1m600/600\u001b[0m \u001b[32m━━━━━━━━━━━━━━━━━━━━\u001b[0m\u001b[37m\u001b[0m \u001b[1m1s\u001b[0m 1ms/step - acc: 0.9543 - loss: 0.1609 - val_acc: 0.9522 - val_loss: 0.1640\n",
      "Epoch 43/100\n",
      "\u001b[1m600/600\u001b[0m \u001b[32m━━━━━━━━━━━━━━━━━━━━\u001b[0m\u001b[37m\u001b[0m \u001b[1m1s\u001b[0m 1ms/step - acc: 0.9540 - loss: 0.1594 - val_acc: 0.9518 - val_loss: 0.1627\n",
      "Epoch 44/100\n",
      "\u001b[1m600/600\u001b[0m \u001b[32m━━━━━━━━━━━━━━━━━━━━\u001b[0m\u001b[37m\u001b[0m \u001b[1m1s\u001b[0m 1ms/step - acc: 0.9546 - loss: 0.1593 - val_acc: 0.9512 - val_loss: 0.1599\n",
      "Epoch 45/100\n",
      "\u001b[1m600/600\u001b[0m \u001b[32m━━━━━━━━━━━━━━━━━━━━\u001b[0m\u001b[37m\u001b[0m \u001b[1m1s\u001b[0m 1ms/step - acc: 0.9566 - loss: 0.1543 - val_acc: 0.9526 - val_loss: 0.1584\n",
      "Epoch 46/100\n",
      "\u001b[1m600/600\u001b[0m \u001b[32m━━━━━━━━━━━━━━━━━━━━\u001b[0m\u001b[37m\u001b[0m \u001b[1m1s\u001b[0m 1ms/step - acc: 0.9584 - loss: 0.1462 - val_acc: 0.9526 - val_loss: 0.1574\n",
      "Epoch 47/100\n",
      "\u001b[1m600/600\u001b[0m \u001b[32m━━━━━━━━━━━━━━━━━━━━\u001b[0m\u001b[37m\u001b[0m \u001b[1m1s\u001b[0m 1ms/step - acc: 0.9579 - loss: 0.1495 - val_acc: 0.9537 - val_loss: 0.1555\n",
      "Epoch 48/100\n",
      "\u001b[1m600/600\u001b[0m \u001b[32m━━━━━━━━━━━━━━━━━━━━\u001b[0m\u001b[37m\u001b[0m \u001b[1m1s\u001b[0m 1ms/step - acc: 0.9596 - loss: 0.1422 - val_acc: 0.9532 - val_loss: 0.1522\n",
      "Epoch 49/100\n",
      "\u001b[1m600/600\u001b[0m \u001b[32m━━━━━━━━━━━━━━━━━━━━\u001b[0m\u001b[37m\u001b[0m \u001b[1m1s\u001b[0m 2ms/step - acc: 0.9601 - loss: 0.1386 - val_acc: 0.9552 - val_loss: 0.1515\n",
      "Epoch 50/100\n",
      "\u001b[1m600/600\u001b[0m \u001b[32m━━━━━━━━━━━━━━━━━━━━\u001b[0m\u001b[37m\u001b[0m \u001b[1m1s\u001b[0m 1ms/step - acc: 0.9603 - loss: 0.1376 - val_acc: 0.9537 - val_loss: 0.1519\n",
      "Epoch 51/100\n",
      "\u001b[1m600/600\u001b[0m \u001b[32m━━━━━━━━━━━━━━━━━━━━\u001b[0m\u001b[37m\u001b[0m \u001b[1m1s\u001b[0m 1ms/step - acc: 0.9598 - loss: 0.1409 - val_acc: 0.9564 - val_loss: 0.1481\n",
      "Epoch 52/100\n",
      "\u001b[1m600/600\u001b[0m \u001b[32m━━━━━━━━━━━━━━━━━━━━\u001b[0m\u001b[37m\u001b[0m \u001b[1m1s\u001b[0m 1ms/step - acc: 0.9617 - loss: 0.1368 - val_acc: 0.9556 - val_loss: 0.1468\n",
      "Epoch 53/100\n",
      "\u001b[1m600/600\u001b[0m \u001b[32m━━━━━━━━━━━━━━━━━━━━\u001b[0m\u001b[37m\u001b[0m \u001b[1m1s\u001b[0m 1ms/step - acc: 0.9627 - loss: 0.1329 - val_acc: 0.9567 - val_loss: 0.1456\n",
      "Epoch 54/100\n",
      "\u001b[1m600/600\u001b[0m \u001b[32m━━━━━━━━━━━━━━━━━━━━\u001b[0m\u001b[37m\u001b[0m \u001b[1m1s\u001b[0m 1ms/step - acc: 0.9607 - loss: 0.1345 - val_acc: 0.9566 - val_loss: 0.1444\n",
      "Epoch 55/100\n",
      "\u001b[1m600/600\u001b[0m \u001b[32m━━━━━━━━━━━━━━━━━━━━\u001b[0m\u001b[37m\u001b[0m \u001b[1m1s\u001b[0m 2ms/step - acc: 0.9637 - loss: 0.1286 - val_acc: 0.9580 - val_loss: 0.1426\n",
      "Epoch 56/100\n",
      "\u001b[1m600/600\u001b[0m \u001b[32m━━━━━━━━━━━━━━━━━━━━\u001b[0m\u001b[37m\u001b[0m \u001b[1m1s\u001b[0m 1ms/step - acc: 0.9619 - loss: 0.1306 - val_acc: 0.9572 - val_loss: 0.1420\n",
      "Epoch 57/100\n",
      "\u001b[1m600/600\u001b[0m \u001b[32m━━━━━━━━━━━━━━━━━━━━\u001b[0m\u001b[37m\u001b[0m \u001b[1m1s\u001b[0m 1ms/step - acc: 0.9625 - loss: 0.1276 - val_acc: 0.9582 - val_loss: 0.1406\n",
      "Epoch 58/100\n",
      "\u001b[1m600/600\u001b[0m \u001b[32m━━━━━━━━━━━━━━━━━━━━\u001b[0m\u001b[37m\u001b[0m \u001b[1m1s\u001b[0m 2ms/step - acc: 0.9653 - loss: 0.1210 - val_acc: 0.9582 - val_loss: 0.1409\n",
      "Epoch 59/100\n",
      "\u001b[1m600/600\u001b[0m \u001b[32m━━━━━━━━━━━━━━━━━━━━\u001b[0m\u001b[37m\u001b[0m \u001b[1m1s\u001b[0m 1ms/step - acc: 0.9652 - loss: 0.1210 - val_acc: 0.9600 - val_loss: 0.1386\n",
      "Epoch 60/100\n",
      "\u001b[1m600/600\u001b[0m \u001b[32m━━━━━━━━━━━━━━━━━━━━\u001b[0m\u001b[37m\u001b[0m \u001b[1m1s\u001b[0m 1ms/step - acc: 0.9660 - loss: 0.1196 - val_acc: 0.9595 - val_loss: 0.1367\n",
      "Epoch 61/100\n",
      "\u001b[1m600/600\u001b[0m \u001b[32m━━━━━━━━━━━━━━━━━━━━\u001b[0m\u001b[37m\u001b[0m \u001b[1m1s\u001b[0m 1ms/step - acc: 0.9652 - loss: 0.1194 - val_acc: 0.9586 - val_loss: 0.1363\n",
      "Epoch 62/100\n",
      "\u001b[1m600/600\u001b[0m \u001b[32m━━━━━━━━━━━━━━━━━━━━\u001b[0m\u001b[37m\u001b[0m \u001b[1m1s\u001b[0m 1ms/step - acc: 0.9650 - loss: 0.1223 - val_acc: 0.9590 - val_loss: 0.1341\n",
      "Epoch 63/100\n",
      "\u001b[1m600/600\u001b[0m \u001b[32m━━━━━━━━━━━━━━━━━━━━\u001b[0m\u001b[37m\u001b[0m \u001b[1m1s\u001b[0m 1ms/step - acc: 0.9665 - loss: 0.1176 - val_acc: 0.9597 - val_loss: 0.1352\n",
      "Epoch 64/100\n",
      "\u001b[1m600/600\u001b[0m \u001b[32m━━━━━━━━━━━━━━━━━━━━\u001b[0m\u001b[37m\u001b[0m \u001b[1m1s\u001b[0m 1ms/step - acc: 0.9663 - loss: 0.1165 - val_acc: 0.9589 - val_loss: 0.1336\n",
      "Epoch 65/100\n",
      "\u001b[1m600/600\u001b[0m \u001b[32m━━━━━━━━━━━━━━━━━━━━\u001b[0m\u001b[37m\u001b[0m \u001b[1m1s\u001b[0m 1ms/step - acc: 0.9661 - loss: 0.1151 - val_acc: 0.9603 - val_loss: 0.1317\n",
      "Epoch 66/100\n",
      "\u001b[1m600/600\u001b[0m \u001b[32m━━━━━━━━━━━━━━━━━━━━\u001b[0m\u001b[37m\u001b[0m \u001b[1m1s\u001b[0m 1ms/step - acc: 0.9670 - loss: 0.1133 - val_acc: 0.9595 - val_loss: 0.1315\n",
      "Epoch 67/100\n",
      "\u001b[1m600/600\u001b[0m \u001b[32m━━━━━━━━━━━━━━━━━━━━\u001b[0m\u001b[37m\u001b[0m \u001b[1m1s\u001b[0m 1ms/step - acc: 0.9674 - loss: 0.1109 - val_acc: 0.9602 - val_loss: 0.1299\n",
      "Epoch 68/100\n",
      "\u001b[1m600/600\u001b[0m \u001b[32m━━━━━━━━━━━━━━━━━━━━\u001b[0m\u001b[37m\u001b[0m \u001b[1m1s\u001b[0m 1ms/step - acc: 0.9687 - loss: 0.1089 - val_acc: 0.9603 - val_loss: 0.1300\n",
      "Epoch 69/100\n",
      "\u001b[1m600/600\u001b[0m \u001b[32m━━━━━━━━━━━━━━━━━━━━\u001b[0m\u001b[37m\u001b[0m \u001b[1m1s\u001b[0m 2ms/step - acc: 0.9671 - loss: 0.1124 - val_acc: 0.9609 - val_loss: 0.1293\n",
      "Epoch 70/100\n",
      "\u001b[1m600/600\u001b[0m \u001b[32m━━━━━━━━━━━━━━━━━━━━\u001b[0m\u001b[37m\u001b[0m \u001b[1m1s\u001b[0m 1ms/step - acc: 0.9689 - loss: 0.1082 - val_acc: 0.9608 - val_loss: 0.1281\n",
      "Epoch 71/100\n",
      "\u001b[1m600/600\u001b[0m \u001b[32m━━━━━━━━━━━━━━━━━━━━\u001b[0m\u001b[37m\u001b[0m \u001b[1m1s\u001b[0m 1ms/step - acc: 0.9674 - loss: 0.1072 - val_acc: 0.9613 - val_loss: 0.1270\n",
      "Epoch 72/100\n",
      "\u001b[1m600/600\u001b[0m \u001b[32m━━━━━━━━━━━━━━━━━━━━\u001b[0m\u001b[37m\u001b[0m \u001b[1m1s\u001b[0m 1ms/step - acc: 0.9696 - loss: 0.1069 - val_acc: 0.9612 - val_loss: 0.1257\n",
      "Epoch 73/100\n",
      "\u001b[1m600/600\u001b[0m \u001b[32m━━━━━━━━━━━━━━━━━━━━\u001b[0m\u001b[37m\u001b[0m \u001b[1m1s\u001b[0m 1ms/step - acc: 0.9688 - loss: 0.1056 - val_acc: 0.9622 - val_loss: 0.1254\n",
      "Epoch 74/100\n",
      "\u001b[1m600/600\u001b[0m \u001b[32m━━━━━━━━━━━━━━━━━━━━\u001b[0m\u001b[37m\u001b[0m \u001b[1m1s\u001b[0m 1ms/step - acc: 0.9700 - loss: 0.1031 - val_acc: 0.9611 - val_loss: 0.1266\n",
      "Epoch 75/100\n",
      "\u001b[1m600/600\u001b[0m \u001b[32m━━━━━━━━━━━━━━━━━━━━\u001b[0m\u001b[37m\u001b[0m \u001b[1m1s\u001b[0m 1ms/step - acc: 0.9689 - loss: 0.1071 - val_acc: 0.9617 - val_loss: 0.1246\n",
      "Epoch 76/100\n",
      "\u001b[1m600/600\u001b[0m \u001b[32m━━━━━━━━━━━━━━━━━━━━\u001b[0m\u001b[37m\u001b[0m \u001b[1m1s\u001b[0m 1ms/step - acc: 0.9712 - loss: 0.1009 - val_acc: 0.9625 - val_loss: 0.1243\n",
      "Epoch 77/100\n",
      "\u001b[1m600/600\u001b[0m \u001b[32m━━━━━━━━━━━━━━━━━━━━\u001b[0m\u001b[37m\u001b[0m \u001b[1m1s\u001b[0m 1ms/step - acc: 0.9707 - loss: 0.1031 - val_acc: 0.9616 - val_loss: 0.1231\n",
      "Epoch 78/100\n",
      "\u001b[1m600/600\u001b[0m \u001b[32m━━━━━━━━━━━━━━━━━━━━\u001b[0m\u001b[37m\u001b[0m \u001b[1m1s\u001b[0m 1ms/step - acc: 0.9706 - loss: 0.0981 - val_acc: 0.9614 - val_loss: 0.1224\n",
      "Epoch 79/100\n",
      "\u001b[1m600/600\u001b[0m \u001b[32m━━━━━━━━━━━━━━━━━━━━\u001b[0m\u001b[37m\u001b[0m \u001b[1m1s\u001b[0m 1ms/step - acc: 0.9710 - loss: 0.0971 - val_acc: 0.9618 - val_loss: 0.1210\n",
      "Epoch 80/100\n",
      "\u001b[1m600/600\u001b[0m \u001b[32m━━━━━━━━━━━━━━━━━━━━\u001b[0m\u001b[37m\u001b[0m \u001b[1m1s\u001b[0m 1ms/step - acc: 0.9716 - loss: 0.0993 - val_acc: 0.9626 - val_loss: 0.1212\n",
      "Epoch 81/100\n",
      "\u001b[1m600/600\u001b[0m \u001b[32m━━━━━━━━━━━━━━━━━━━━\u001b[0m\u001b[37m\u001b[0m \u001b[1m1s\u001b[0m 1ms/step - acc: 0.9710 - loss: 0.0984 - val_acc: 0.9610 - val_loss: 0.1248\n",
      "Epoch 82/100\n",
      "\u001b[1m600/600\u001b[0m \u001b[32m━━━━━━━━━━━━━━━━━━━━\u001b[0m\u001b[37m\u001b[0m \u001b[1m1s\u001b[0m 2ms/step - acc: 0.9730 - loss: 0.0937 - val_acc: 0.9625 - val_loss: 0.1200\n",
      "Epoch 83/100\n",
      "\u001b[1m600/600\u001b[0m \u001b[32m━━━━━━━━━━━━━━━━━━━━\u001b[0m\u001b[37m\u001b[0m \u001b[1m1s\u001b[0m 1ms/step - acc: 0.9730 - loss: 0.0932 - val_acc: 0.9630 - val_loss: 0.1202\n",
      "Epoch 84/100\n",
      "\u001b[1m600/600\u001b[0m \u001b[32m━━━━━━━━━━━━━━━━━━━━\u001b[0m\u001b[37m\u001b[0m \u001b[1m1s\u001b[0m 1ms/step - acc: 0.9721 - loss: 0.0944 - val_acc: 0.9634 - val_loss: 0.1194\n",
      "Epoch 85/100\n",
      "\u001b[1m600/600\u001b[0m \u001b[32m━━━━━━━━━━━━━━━━━━━━\u001b[0m\u001b[37m\u001b[0m \u001b[1m1s\u001b[0m 1ms/step - acc: 0.9723 - loss: 0.0928 - val_acc: 0.9634 - val_loss: 0.1194\n",
      "Epoch 86/100\n",
      "\u001b[1m600/600\u001b[0m \u001b[32m━━━━━━━━━━━━━━━━━━━━\u001b[0m\u001b[37m\u001b[0m \u001b[1m1s\u001b[0m 1ms/step - acc: 0.9718 - loss: 0.0956 - val_acc: 0.9623 - val_loss: 0.1182\n",
      "Epoch 87/100\n",
      "\u001b[1m600/600\u001b[0m \u001b[32m━━━━━━━━━━━━━━━━━━━━\u001b[0m\u001b[37m\u001b[0m \u001b[1m1s\u001b[0m 1ms/step - acc: 0.9745 - loss: 0.0907 - val_acc: 0.9621 - val_loss: 0.1188\n",
      "Epoch 88/100\n",
      "\u001b[1m600/600\u001b[0m \u001b[32m━━━━━━━━━━━━━━━━━━━━\u001b[0m\u001b[37m\u001b[0m \u001b[1m1s\u001b[0m 1ms/step - acc: 0.9740 - loss: 0.0888 - val_acc: 0.9625 - val_loss: 0.1187\n",
      "Epoch 89/100\n",
      "\u001b[1m600/600\u001b[0m \u001b[32m━━━━━━━━━━━━━━━━━━━━\u001b[0m\u001b[37m\u001b[0m \u001b[1m1s\u001b[0m 1ms/step - acc: 0.9734 - loss: 0.0890 - val_acc: 0.9635 - val_loss: 0.1183\n",
      "Epoch 90/100\n",
      "\u001b[1m600/600\u001b[0m \u001b[32m━━━━━━━━━━━━━━━━━━━━\u001b[0m\u001b[37m\u001b[0m \u001b[1m1s\u001b[0m 2ms/step - acc: 0.9737 - loss: 0.0902 - val_acc: 0.9640 - val_loss: 0.1165\n",
      "Epoch 91/100\n",
      "\u001b[1m600/600\u001b[0m \u001b[32m━━━━━━━━━━━━━━━━━━━━\u001b[0m\u001b[37m\u001b[0m \u001b[1m1s\u001b[0m 2ms/step - acc: 0.9745 - loss: 0.0891 - val_acc: 0.9629 - val_loss: 0.1189\n",
      "Epoch 92/100\n",
      "\u001b[1m600/600\u001b[0m \u001b[32m━━━━━━━━━━━━━━━━━━━━\u001b[0m\u001b[37m\u001b[0m \u001b[1m1s\u001b[0m 1ms/step - acc: 0.9748 - loss: 0.0864 - val_acc: 0.9640 - val_loss: 0.1162\n",
      "Epoch 93/100\n",
      "\u001b[1m600/600\u001b[0m \u001b[32m━━━━━━━━━━━━━━━━━━━━\u001b[0m\u001b[37m\u001b[0m \u001b[1m1s\u001b[0m 1ms/step - acc: 0.9751 - loss: 0.0845 - val_acc: 0.9649 - val_loss: 0.1159\n",
      "Epoch 94/100\n",
      "\u001b[1m600/600\u001b[0m \u001b[32m━━━━━━━━━━━━━━━━━━━━\u001b[0m\u001b[37m\u001b[0m \u001b[1m1s\u001b[0m 1ms/step - acc: 0.9745 - loss: 0.0870 - val_acc: 0.9637 - val_loss: 0.1154\n",
      "Epoch 95/100\n",
      "\u001b[1m600/600\u001b[0m \u001b[32m━━━━━━━━━━━━━━━━━━━━\u001b[0m\u001b[37m\u001b[0m \u001b[1m1s\u001b[0m 1ms/step - acc: 0.9750 - loss: 0.0845 - val_acc: 0.9639 - val_loss: 0.1154\n",
      "Epoch 96/100\n",
      "\u001b[1m600/600\u001b[0m \u001b[32m━━━━━━━━━━━━━━━━━━━━\u001b[0m\u001b[37m\u001b[0m \u001b[1m1s\u001b[0m 1ms/step - acc: 0.9756 - loss: 0.0832 - val_acc: 0.9641 - val_loss: 0.1154\n",
      "Epoch 97/100\n",
      "\u001b[1m600/600\u001b[0m \u001b[32m━━━━━━━━━━━━━━━━━━━━\u001b[0m\u001b[37m\u001b[0m \u001b[1m1s\u001b[0m 1ms/step - acc: 0.9739 - loss: 0.0870 - val_acc: 0.9649 - val_loss: 0.1143\n",
      "Epoch 98/100\n",
      "\u001b[1m600/600\u001b[0m \u001b[32m━━━━━━━━━━━━━━━━━━━━\u001b[0m\u001b[37m\u001b[0m \u001b[1m1s\u001b[0m 1ms/step - acc: 0.9757 - loss: 0.0832 - val_acc: 0.9636 - val_loss: 0.1148\n",
      "Epoch 99/100\n",
      "\u001b[1m600/600\u001b[0m \u001b[32m━━━━━━━━━━━━━━━━━━━━\u001b[0m\u001b[37m\u001b[0m \u001b[1m1s\u001b[0m 1ms/step - acc: 0.9756 - loss: 0.0819 - val_acc: 0.9639 - val_loss: 0.1135\n",
      "Epoch 100/100\n",
      "\u001b[1m600/600\u001b[0m \u001b[32m━━━━━━━━━━━━━━━━━━━━\u001b[0m\u001b[37m\u001b[0m \u001b[1m1s\u001b[0m 1ms/step - acc: 0.9765 - loss: 0.0785 - val_acc: 0.9644 - val_loss: 0.1140\n"
     ]
    }
   ],
   "source": [
    "historico = modelo.fit(x_treino, y_treino, epochs=100, batch_size=100, verbose=1, validation_data=(x_teste, y_teste))"
   ]
  },
  {
   "cell_type": "markdown",
   "metadata": {},
   "source": [
    "# Teste do modelo"
   ]
  },
  {
   "cell_type": "code",
   "execution_count": 17,
   "metadata": {},
   "outputs": [
    {
     "data": {
      "text/plain": [
       "<matplotlib.image.AxesImage at 0x1a891a476d0>"
      ]
     },
     "execution_count": 17,
     "metadata": {},
     "output_type": "execute_result"
    },
    {
     "data": {
      "image/png": "[encoded data removed]",
      "text/plain": [
       "<Figure size 640x480 with 1 Axes>"
      ]
     },
     "metadata": {},
     "output_type": "display_data"
    }
   ],
   "source": [
    "exemplo = x_treino[5281].reshape(28,28,1)\n",
    "plt.imshow(exemplo, cmap='gray')"
   ]
  },
  {
   "cell_type": "code",
   "execution_count": 33,
   "metadata": {},
   "outputs": [
    {
     "name": "stdout",
     "output_type": "stream",
     "text": [
      "\u001b[1m1/1\u001b[0m \u001b[32m━━━━━━━━━━━━━━━━━━━━\u001b[0m\u001b[37m\u001b[0m \u001b[1m0s\u001b[0m 19ms/step\n"
     ]
    }
   ],
   "source": [
    "exemplo = x_treino[5281].reshape(1, 784)\n",
    "resposta = modelo.predict(exemplo)\n",
    "resposta[0]\n",
    "for i, arr in enumerate(resposta[0]):\n",
    "    if arr == 1:\n",
    "        print(f'O número da imagem é {i}')"
   ]
  },
  {
   "cell_type": "code",
   "execution_count": 37,
   "metadata": {},
   "outputs": [
    {
     "data": {
      "text/plain": [
       "array([6.4858774e-08, 2.7279700e-07, 8.0323002e-09, 9.2212094e-06,\n",
       "       5.0197297e-13, 3.2507617e-06, 6.7517776e-11, 3.5795369e-10,\n",
       "       9.9998128e-01, 5.8010933e-06], dtype=float32)"
      ]
     },
     "execution_count": 37,
     "metadata": {},
     "output_type": "execute_result"
    }
   ],
   "source": [
    "resposta[0]"
   ]
  },
  {
   "cell_type": "code",
   "execution_count": 32,
   "metadata": {},
   "outputs": [
    {
     "data": {
      "text/plain": [
       "array([0., 0., 0., 0., 0., 0., 0., 1., 0., 0.])"
      ]
     },
     "execution_count": 32,
     "metadata": {},
     "output_type": "execute_result"
    }
   ],
   "source": [
    "y_treino[5280] "
   ]
  },
  {
   "cell_type": "markdown",
   "metadata": {},
   "source": [
    "# Observações de aprendizado"
   ]
  },
  {
   "cell_type": "markdown",
   "metadata": {},
   "source": [
    "Queria deixar um adendo de um detalhe que confundiu minha cabeça, o numero total de iterações por epoch se da no código abaixo:"
   ]
  },
  {
   "cell_type": "markdown",
   "metadata": {},
   "source": [
    "O modelo avalia a acurácia a cada epoch(ou época, chame do que preferir), e os valores das variaveis que estão sendo alteradas(pesos e bias) mudam a cada iteração dentro do epoch"
   ]
  },
  {
   "cell_type": "code",
   "execution_count": null,
   "metadata": {},
   "outputs": [
    {
     "data": {
      "text/plain": [
       "(600.0, 60000.0)"
      ]
     },
     "execution_count": 30,
     "metadata": {},
     "output_type": "execute_result"
    }
   ],
   "source": [
    "batch_size=100\n",
    "epochs=100\n",
    "\n",
    "total_de_iteracoes_por_epoch = len(x_treino)/batch_size\n",
    "total_de_iteracoes = total_de_iteracoes_por_epoch*epochs\n",
    "\n",
    "# O total de iterações por epoch é o total de vezes em que nosso modelo foi treinado por epoch(epoca), ou seja, o total de vezes em que os valores dos pesos e dos bias foram alterados por epoch\n",
    "# O total de iterações é o total de vezes que nosso modelo foi treinado\n",
    "total_de_iteracoes_por_epoch, total_de_iteracoes"
   ]
  },
  {
   "cell_type": "markdown",
   "metadata": {},
   "source": [
    "A principal vantagem de trabalhar com o gradiente descendente estocástico (SGD) é a flexibilidade de manipular o tamanho dos dados a serem treinados por época (epoch). Em um cenário ideal, o número de iterações seria sempre igual à quantidade de epochs. No entanto, como não temos poder de processamento infinito, precisamos otimizar esse processo, e é aí que o SGD se destaca. Com ele, podemos realizar múltiplas iterações utilizando apenas uma vez a base de dados completa, em vez de ter uma iteração por epoch, ou seja, uma iteração por treinamento na base de dados completa.\n",
    "\n",
    "Por exemplo, podemos ter 60 iterações usando o conjunto de dados completo apenas uma vez, em vez de ter 1 iteração por epoch. Isso permite um treinamento mais eficiente e rápido. No entanto, o SGD não é perfeito. Se o tamanho do lote (batch size) for muito pequeno, o modelo pode desviar significativamente do caminho ideal, resultando em underfitting. Portanto, é crucial escolher um tamanho de lote apropriado.\n",
    "\n",
    "Mesmo assim, pequenos desvios em uma iteração podem ser corrigidos na próxima, semelhante ao Andar de um bêbado que eventualmente encontra seu caminho!\n",
    "<center><img src=\"./imagens/Gradiente descendente estocastico.png\"/></center>"
   ]
  },
  {
   "cell_type": "markdown",
   "metadata": {},
   "source": [
    "Com ele podemos chegar no local ideal que queremos com menos epochs, ou seja, com menos leituras totais na base de dados"
   ]
  },
  {
   "cell_type": "markdown",
   "metadata": {},
   "source": [
    "# Gráficos de perfomace\n",
    "\n",
    "Objetivos: Verificar a presença de underfiting e/ou overfiting"
   ]
  },
  {
   "cell_type": "code",
   "execution_count": null,
   "metadata": {},
   "outputs": [
    {
     "data": {
      "image/png": "[encoded data removed]",
      "text/plain": [
       "<Figure size 640x480 with 1 Axes>"
      ]
     },
     "metadata": {},
     "output_type": "display_data"
    }
   ],
   "source": [
    "import matplotlib.pyplot as plt\n",
    "\n",
    "acc_treino = historico.history['acc']\n",
    "acc_validation = historico.history['val_acc']\n",
    "\n",
    "epochs = range(1, len(acc_treino)+1)\n",
    "\n",
    "plt.plot(epochs, acc_treino, 'g', label='Treino')\n",
    "plt.plot(epochs, acc_validation, 'r', label='Validacao')\n",
    "plt.grid(True)\n",
    "plt.legend()\n",
    "plt.title('Acuracia de Treino x Validação')\n",
    "plt.xlabel('Epoch')\n",
    "plt.ylabel('Acurácia')\n",
    "plt.show()"
   ]
  },
  {
   "cell_type": "markdown",
   "metadata": {},
   "source": [
    "Tomando com base esse gráfico vemos que aparentemente nosso modelo não está passando pelo processo de overfitting o que é uma boa notícia"
   ]
  }
 ],
 "metadata": {
  "kernelspec": {
   "display_name": "base",
   "language": "python",
   "name": "python3"
  },
  "language_info": {
   "codemirror_mode": {
    "name": "ipython",
    "version": 3
   },
   "file_extension": ".py",
   "mimetype": "text/x-python",
   "name": "python",
   "nbconvert_exporter": "python",
   "pygments_lexer": "ipython3",
   "version": "3.11.7"
  }
 },
 "nbformat": 4,
 "nbformat_minor": 2
}
