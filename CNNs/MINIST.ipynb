{
 "cells": [
  {
   "cell_type": "markdown",
   "metadata": {},
   "source": [
    "# Importando biblioteca"
   ]
  },
  {
   "cell_type": "code",
   "execution_count": 1,
   "metadata": {},
   "outputs": [],
   "source": [
    "import warnings\n",
    "warnings.filterwarnings('ignore')\n",
    "import pandas as pd\n",
    "import matplotlib.pyplot as plt\n",
    "import numpy as np\n",
    "import tensorflow as tf"
   ]
  },
  {
   "cell_type": "markdown",
   "metadata": {},
   "source": [
    "# Sobre a base de dados\n",
    "\n",
    "O conjunto de dados MNIST (Modified National Institute of Standards and Technology) é uma grande base de dados de dígitos manuscritos que é normalmente utilizada para treinar vários sistemas de processamento de imagem e modelos de aprendizagem automática. Foi criado através da \"re-mistura\" das amostras dos conjuntos de dados originais do NIST e tornou-se uma referência para avaliar o desempenho dos algoritmos de classificação de imagens."
   ]
  },
  {
   "cell_type": "markdown",
   "metadata": {},
   "source": [
    "# Características principais\n",
    "\n",
    ". A MNIST contém 60.000 imagens de treino e 10.000 imagens de teste de dígitos manuscritos.  \n",
    "\n",
    ". O conjunto de dados inclui imagens em escala de cinzentos de tamanho 28x28 pixéis.  \n",
    "\n",
    ". As imagens são normalizadas para caberem numa caixa delimitadora de 28x28 pixéis e anti-aliased, introduzindo níveis de escala de cinzentos.  \n",
    "\n",
    ". A MNIST é amplamente utilizada para treino e teste no domínio da aprendizagem automática, especialmente para tarefas de classificação de imagens.  \n"
   ]
  },
  {
   "cell_type": "markdown",
   "metadata": {},
   "source": [
    "# Estrutura do conjunto de dados\n",
    "\n",
    "O conjunto de dados MNIST está dividido em dois subconjuntos:\n",
    "\n",
    "1. Conjunto de treino: Este subconjunto contém 60.000 imagens de dígitos manuscritos utilizados para treinar modelos de aprendizagem automática.\n",
    "2. Conjunto de teste: Este subconjunto consiste em 10.000 imagens utilizadas para testar e avaliar os modelos treinados.\n"
   ]
  },
  {
   "cell_type": "markdown",
   "metadata": {},
   "source": [
    "# Importação e Análise do Dataset"
   ]
  },
  {
   "cell_type": "code",
   "execution_count": 3,
   "metadata": {},
   "outputs": [
    {
     "name": "stdout",
     "output_type": "stream",
     "text": [
      "Downloading data from https://storage.googleapis.com/tensorflow/tf-keras-datasets/mnist.npz\n",
      "11490434/11490434 [==============================] - 1s 0us/step\n"
     ]
    }
   ],
   "source": [
    "from tensorflow.keras.datasets import mnist\n",
    "\n",
    "(x_treino, y_treino), (x_teste, y_teste) = mnist.load_data()\n"
   ]
  },
  {
   "cell_type": "code",
   "execution_count": 4,
   "metadata": {},
   "outputs": [
    {
     "data": {
      "text/html": [
       "<div>\n",
       "<style scoped>\n",
       "    .dataframe tbody tr th:only-of-type {\n",
       "        vertical-align: middle;\n",
       "    }\n",
       "\n",
       "    .dataframe tbody tr th {\n",
       "        vertical-align: top;\n",
       "    }\n",
       "\n",
       "    .dataframe thead th {\n",
       "        text-align: right;\n",
       "    }\n",
       "</style>\n",
       "<table border=\"1\" class=\"dataframe\">\n",
       "  <thead>\n",
       "    <tr style=\"text-align: right;\">\n",
       "      <th></th>\n",
       "      <th>Classes</th>\n",
       "      <th>Frequencia</th>\n",
       "    </tr>\n",
       "  </thead>\n",
       "  <tbody>\n",
       "    <tr>\n",
       "      <th>5</th>\n",
       "      <td>0</td>\n",
       "      <td>9.87</td>\n",
       "    </tr>\n",
       "    <tr>\n",
       "      <th>0</th>\n",
       "      <td>1</td>\n",
       "      <td>11.24</td>\n",
       "    </tr>\n",
       "    <tr>\n",
       "      <th>3</th>\n",
       "      <td>2</td>\n",
       "      <td>9.93</td>\n",
       "    </tr>\n",
       "    <tr>\n",
       "      <th>2</th>\n",
       "      <td>3</td>\n",
       "      <td>10.22</td>\n",
       "    </tr>\n",
       "    <tr>\n",
       "      <th>8</th>\n",
       "      <td>4</td>\n",
       "      <td>9.74</td>\n",
       "    </tr>\n",
       "    <tr>\n",
       "      <th>9</th>\n",
       "      <td>5</td>\n",
       "      <td>9.04</td>\n",
       "    </tr>\n",
       "    <tr>\n",
       "      <th>6</th>\n",
       "      <td>6</td>\n",
       "      <td>9.86</td>\n",
       "    </tr>\n",
       "    <tr>\n",
       "      <th>1</th>\n",
       "      <td>7</td>\n",
       "      <td>10.44</td>\n",
       "    </tr>\n",
       "    <tr>\n",
       "      <th>7</th>\n",
       "      <td>8</td>\n",
       "      <td>9.75</td>\n",
       "    </tr>\n",
       "    <tr>\n",
       "      <th>4</th>\n",
       "      <td>9</td>\n",
       "      <td>9.92</td>\n",
       "    </tr>\n",
       "  </tbody>\n",
       "</table>\n",
       "</div>"
      ],
      "text/plain": [
       "   Classes  Frequencia\n",
       "5        0        9.87\n",
       "0        1       11.24\n",
       "3        2        9.93\n",
       "2        3       10.22\n",
       "8        4        9.74\n",
       "9        5        9.04\n",
       "6        6        9.86\n",
       "1        7       10.44\n",
       "7        8        9.75\n",
       "4        9        9.92"
      ]
     },
     "execution_count": 4,
     "metadata": {},
     "output_type": "execute_result"
    }
   ],
   "source": [
    "y_treino = pd.Series(data=y_treino)\n",
    "dfreq = round(y_treino.value_counts()/len(y_treino)*100, 2)\n",
    "dfreq.sort_index()\n",
    "dfreq.reset_index().rename(columns={'index':'Classes', 'count':'Frequencia'}).sort_values(by='Classes')"
   ]
  },
  {
   "cell_type": "code",
   "execution_count": 8,
   "metadata": {},
   "outputs": [
    {
     "data": {
      "image/png": "[encoded data removed]",
      "text/plain": [
       "<Figure size 1200x600 with 10 Axes>"
      ]
     },
     "metadata": {},
     "output_type": "display_data"
    }
   ],
   "source": [
    "classes = [0, 1, 2, 3, 4, 5, 6, 7, 8, 9] \n",
    "indices = [1, 6, 5, 7, 2, 0, 13, 15, 17, 4]\n",
    "\n",
    "# Definindo o número de linhas e colunas para os subplots\n",
    "num_rows = 2\n",
    "num_cols = 5\n",
    "\n",
    "fig, axes = plt.subplots(num_rows, num_cols, figsize=(12, 6))\n",
    "\n",
    "for i, idx in enumerate(indices):\n",
    "    row = i // num_cols\n",
    "    col = i % num_cols\n",
    "    axes[row, col].imshow(x_treino[idx], cmap='gray')\n",
    "    axes[row, col].axis('off')\n",
    "    axes[row, col].set_title(f'Classe {classes[i]}')\n",
    "\n",
    "plt.tight_layout()\n",
    "plt.show()"
   ]
  },
  {
   "cell_type": "code",
   "execution_count": 9,
   "metadata": {},
   "outputs": [
    {
     "data": {
      "text/plain": [
       "((60000, 28, 28), (10000, 28, 28))"
      ]
     },
     "execution_count": 9,
     "metadata": {},
     "output_type": "execute_result"
    }
   ],
   "source": [
    "x_treino.shape, x_teste.shape"
   ]
  },
  {
   "cell_type": "markdown",
   "metadata": {},
   "source": [
    "# Normalização e pre-processamento dos dados\n",
    "\n",
    "Pelo fato do dataset ja estar praticamente preparado para uso, só teremos uma etapa de pré-processamento que será a conversão dos dados de output de treino e teste em uma matriz com colunas sendo respectivas a cada categoria/classe presenta no dataset. A outra etapa será apenas uma normalização de valores. Como os pixeis estão entre valores entre 0 e 255, iremos normalizar dividindo o valor de um pixel x por 255 para que o valor de x fique entre 0 e 1 e daremos um reshape para transformar a matriz em um array que será correspondente a uma linha do dataframe"
   ]
  },
  {
   "cell_type": "code",
   "execution_count": 5,
   "metadata": {},
   "outputs": [],
   "source": [
    "#As CNNs da api do keras no tensorflow so aceitam entradas em 3 ou 4 dimensoes \n",
    "x_treino = x_treino.reshape(60000, 28, 28, 1)\n",
    "x_teste = x_teste.reshape(10000, 28, 28, 1)\n",
    "\n",
    "\n",
    "# Redimensionar as imagens de 28x28 para 32x32 por conta da arquitetura utilizada\n",
    "x_treino = np.array([tf.image.resize(img, (32, 32)) for img in x_treino])\n",
    "x_teste = np.array([tf.image.resize(img, (32, 32)) for img in x_teste])\n",
    "\n",
    "x_treino = x_treino/255\n",
    "x_teste = x_teste/255"
   ]
  },
  {
   "cell_type": "code",
   "execution_count": 6,
   "metadata": {},
   "outputs": [
    {
     "data": {
      "text/plain": [
       "(array([[0., 0., 0., ..., 0., 0., 0.],\n",
       "        [1., 0., 0., ..., 0., 0., 0.],\n",
       "        [0., 0., 0., ..., 0., 0., 0.],\n",
       "        ...,\n",
       "        [0., 0., 0., ..., 0., 0., 0.],\n",
       "        [0., 0., 0., ..., 0., 0., 0.],\n",
       "        [0., 0., 0., ..., 0., 1., 0.]], dtype=float32),\n",
       " array([[0., 0., 0., ..., 1., 0., 0.],\n",
       "        [0., 0., 1., ..., 0., 0., 0.],\n",
       "        [0., 1., 0., ..., 0., 0., 0.],\n",
       "        ...,\n",
       "        [0., 0., 0., ..., 0., 0., 0.],\n",
       "        [0., 0., 0., ..., 0., 0., 0.],\n",
       "        [0., 0., 0., ..., 0., 0., 0.]], dtype=float32))"
      ]
     },
     "execution_count": 6,
     "metadata": {},
     "output_type": "execute_result"
    }
   ],
   "source": [
    "from keras.utils import to_categorical\n",
    "\n",
    "y_treino = to_categorical(y_treino) \n",
    "y_teste = to_categorical(y_teste) \n",
    "\n",
    "y_treino, y_teste"
   ]
  },
  {
   "cell_type": "markdown",
   "metadata": {},
   "source": [
    "# Sobre o modelo\n",
    "\n",
    "Usando o dataset MINIST com imagens de 28X28 pixels, foi feita a seguinte rede neural:\n",
    "\n",
    ".Arquitetura LeNet: A LeNet é uma rede neural convolucional projetada para classificar imagens, especialmente no contexto de reconhecimento de dígitos (números de 0 a 9) em datasets como o MNIST.\n",
    ".Funções de Ativação: A LeNet utiliza a função de ativação Sigmoid ou Tanh nas camadas ocultas, e a Softmax na camada de saída para converter as ativações em probabilidades de classe.\n",
    "\n",
    ".Camada de Entrada: A LeNet tem uma camada de entrada composta por 1024 neurônios, representando os 1024 pixels de uma imagem de 32x32 onde a dimensao.\n",
    "\n",
    ".Camadas Convolucionais e Subamostragem: A arquitetura possui duas camadas convolucionais seguidas por camadas de subamostragem (ou pooling), que ajudam a extrair características importantes das imagens. Essas camadas convolucionais usam filtros para aprender padrões como bordas e texturas.\n",
    "\n",
    ".Camadas Ocultas e Saída: A rede conta com duas camadas densas após as camadas convolucionais, sendo a primeira com 120 neurônios e a segunda com 84 neurônios. A camada de saída possui 10 neurônios, correspondentes às 10 classes de dígitos possíveis (0 a 9).\n",
    "\n",
    ".Otimizadores: O treinamento da LeNet pode usar o método de otimização ADAM, e sua performance é verificada ajustando os pesos para minimizar o erro.\n",
    "\n",
    ".Função de Custo: A função de custo utilizada é a categorical_crossentropy, que mede a diferença entre a distribuição de probabilidade predita pela rede e a distribuição real das classes.\n",
    "\n",
    ".Variáveis: A arquitetura da LeNet possui um total de 23082 parâmetros (pesos e bias)."
   ]
  },
  {
   "cell_type": "markdown",
   "metadata": {},
   "source": [
    "<center><img src=\"../../imagens/LeNet.png\"/></center>"
   ]
  },
  {
   "cell_type": "markdown",
   "metadata": {},
   "source": [
    "# Compilação e treinamento dos modelos\n",
    "\n",
    "Compilação do modelo:\n",
    "A métrica usada para validação do eficiencia do modelo foi a métrica da acuracia  \n",
    "A função de custo(loss ou erro, como preferir) foi definida como a categorical_crossentropy  \n",
    "O otimizador como o Gradiente descendente estocàstico  "
   ]
  },
  {
   "cell_type": "code",
   "execution_count": 7,
   "metadata": {},
   "outputs": [],
   "source": [
    "from tensorflow.keras.models import Sequential\n",
    "from tensorflow.keras.layers import Dense, Dropout, Conv2D, Flatten, AveragePooling2D\n",
    "from tensorflow.keras.optimizers import Adam"
   ]
  },
  {
   "cell_type": "code",
   "execution_count": 8,
   "metadata": {},
   "outputs": [],
   "source": [
    "#Criando modelo de rede neural e adicionando as camadas\n",
    "modelo = Sequential()\n",
    "\n",
    "#Usar o padding é same, nao usar é valid\n",
    "# kernel_size é o tamanho do filtro\n",
    "# pool_size é o tamanho do quadrante que o pooling ira escolher o valor maximo\n",
    "modelo.add(Conv2D(filters=6, kernel_size=5, activation='relu', input_shape=(32,32,1)))\n",
    "modelo.add(AveragePooling2D(pool_size=(2,2), padding='valid'))\n",
    "\n",
    "modelo.add(Conv2D(filters=16, kernel_size=5, activation='relu'))\n",
    "modelo.add(AveragePooling2D(pool_size=(2,2), padding='valid'))\n",
    "\n",
    "modelo.add(Flatten())\n",
    "\n",
    "modelo.add(Dense(120, activation='relu', kernel_initializer='normal'))\n",
    "modelo.add(Dropout(0.2))\n",
    "\n",
    "#Adicionando camada densa recebendo 1.024 entradas\n",
    "modelo.add(Dense(84, activation='relu', kernel_initializer='normal'))\n",
    "modelo.add(Dropout(0.2))\n",
    "\n",
    "#Adicionando camada de saída\n",
    "modelo.add(Dense(y_treino.shape[1], activation='softmax', kernel_initializer='normal'))\n"
   ]
  },
  {
   "cell_type": "code",
   "execution_count": 9,
   "metadata": {},
   "outputs": [],
   "source": [
    "otimizador = Adam() # Otimizador Adam"
   ]
  },
  {
   "cell_type": "code",
   "execution_count": 10,
   "metadata": {},
   "outputs": [],
   "source": [
    "#Definindo a compilaçao do modelo como a função de custo sendo a cross-entropy, otimizador o Gradiente descendente estocastico, a métrica de avaliação e eficiencia do modelo sendo a acuracia\n",
    "modelo.compile(loss='categorical_crossentropy', \n",
    "               optimizer=otimizador, \n",
    "               metrics=['acc'], ) "
   ]
  },
  {
   "cell_type": "markdown",
   "metadata": {},
   "source": [
    "Treinamento do modelo:  \n",
    "\n",
    "O modelo foi treinado por 16 epochs(épocas), o que significa que ele passou pelo conjunto de dados de treinamento 16 vezes.  \n",
    "\n",
    "Com o tamanho do lote do gradiente descendente estocástico (batch_size) igual a 100, o número de iterações por época será 600 (60.000 exemplos no conjunto de dados dividido pelo tamanho do lote de 100). Portanto, os pesos e os vieses serão atualizados 60.000 vezes ao longo de 100 épocas dentro da rede neural.  \n",
    "\n",
    "Utilizamos os dados de teste como validação para verificar a presença de overfitting. Como o conjunto de dados não é muito grande, isso nos permite avaliar o desempenho do modelo e ajustar os hiperparâmetros de forma mais eficaz.  "
   ]
  },
  {
   "cell_type": "code",
   "execution_count": 11,
   "metadata": {},
   "outputs": [
    {
     "name": "stdout",
     "output_type": "stream",
     "text": [
      "Epoch 1/16\n",
      "600/600 [==============================] - 6s 4ms/step - loss: 0.4265 - acc: 0.8678 - val_loss: 0.1156 - val_acc: 0.9642\n",
      "Epoch 2/16\n",
      "600/600 [==============================] - 2s 4ms/step - loss: 0.1318 - acc: 0.9609 - val_loss: 0.0694 - val_acc: 0.9778\n",
      "Epoch 3/16\n",
      "600/600 [==============================] - 2s 4ms/step - loss: 0.0925 - acc: 0.9724 - val_loss: 0.0600 - val_acc: 0.9813\n",
      "Epoch 4/16\n",
      "600/600 [==============================] - 2s 3ms/step - loss: 0.0765 - acc: 0.9773 - val_loss: 0.0541 - val_acc: 0.9833\n",
      "Epoch 5/16\n",
      "600/600 [==============================] - 2s 3ms/step - loss: 0.0672 - acc: 0.9803 - val_loss: 0.0437 - val_acc: 0.9860\n",
      "Epoch 6/16\n",
      "600/600 [==============================] - 2s 4ms/step - loss: 0.0561 - acc: 0.9831 - val_loss: 0.0418 - val_acc: 0.9880\n",
      "Epoch 7/16\n",
      "600/600 [==============================] - 2s 4ms/step - loss: 0.0525 - acc: 0.9843 - val_loss: 0.0326 - val_acc: 0.9895\n",
      "Epoch 8/16\n",
      "600/600 [==============================] - 2s 3ms/step - loss: 0.0453 - acc: 0.9864 - val_loss: 0.0296 - val_acc: 0.9902\n",
      "Epoch 9/16\n",
      "600/600 [==============================] - 2s 4ms/step - loss: 0.0417 - acc: 0.9878 - val_loss: 0.0306 - val_acc: 0.9909\n",
      "Epoch 10/16\n",
      "600/600 [==============================] - 2s 4ms/step - loss: 0.0392 - acc: 0.9876 - val_loss: 0.0295 - val_acc: 0.9900\n",
      "Epoch 11/16\n",
      "600/600 [==============================] - 2s 4ms/step - loss: 0.0364 - acc: 0.9886 - val_loss: 0.0312 - val_acc: 0.9904\n",
      "Epoch 12/16\n",
      "600/600 [==============================] - 2s 3ms/step - loss: 0.0323 - acc: 0.9904 - val_loss: 0.0339 - val_acc: 0.9901\n",
      "Epoch 13/16\n",
      "600/600 [==============================] - 3s 5ms/step - loss: 0.0294 - acc: 0.9907 - val_loss: 0.0343 - val_acc: 0.9901\n",
      "Epoch 14/16\n",
      "600/600 [==============================] - 3s 5ms/step - loss: 0.0290 - acc: 0.9908 - val_loss: 0.0280 - val_acc: 0.9899\n",
      "Epoch 15/16\n",
      "600/600 [==============================] - 2s 4ms/step - loss: 0.0263 - acc: 0.9919 - val_loss: 0.0287 - val_acc: 0.9903\n",
      "Epoch 16/16\n",
      "600/600 [==============================] - 2s 4ms/step - loss: 0.0241 - acc: 0.9924 - val_loss: 0.0297 - val_acc: 0.9894\n"
     ]
    }
   ],
   "source": [
    "historico = modelo.fit(x_treino, y_treino, epochs=16, batch_size=100, verbose=1, validation_data=(x_teste, y_teste))"
   ]
  },
  {
   "cell_type": "markdown",
   "metadata": {},
   "source": [
    "# Teste do modelo"
   ]
  },
  {
   "cell_type": "code",
   "execution_count": 38,
   "metadata": {},
   "outputs": [
    {
     "data": {
      "text/plain": [
       "<matplotlib.image.AxesImage at 0x2bcb21db110>"
      ]
     },
     "execution_count": 38,
     "metadata": {},
     "output_type": "execute_result"
    },
    {
     "data": {
      "image/png": "[encoded data removed]",
      "text/plain": [
       "<Figure size 640x480 with 1 Axes>"
      ]
     },
     "metadata": {},
     "output_type": "display_data"
    }
   ],
   "source": [
    "plt.imshow(x_treino[5281], cmap='gray')"
   ]
  },
  {
   "cell_type": "code",
   "execution_count": 40,
   "metadata": {},
   "outputs": [
    {
     "name": "stdout",
     "output_type": "stream",
     "text": [
      "\u001b[1m1/1\u001b[0m \u001b[32m━━━━━━━━━━━━━━━━━━━━\u001b[0m\u001b[37m\u001b[0m \u001b[1m0s\u001b[0m 24ms/step\n",
      "O número da imagem é 8\n"
     ]
    }
   ],
   "source": [
    "exemplo = np.expand_dims(x_treino[5281], axis=0)\n",
    "resposta = modelo.predict(exemplo)\n",
    "for i, arr in enumerate(resposta[0]):\n",
    "    if arr == 1:\n",
    "        print(f'O número da imagem é {i}')"
   ]
  },
  {
   "cell_type": "code",
   "execution_count": 120,
   "metadata": {},
   "outputs": [
    {
     "data": {
      "text/plain": [
       "7"
      ]
     },
     "execution_count": 120,
     "metadata": {},
     "output_type": "execute_result"
    }
   ],
   "source": [
    "y_treino[5280] "
   ]
  },
  {
   "cell_type": "markdown",
   "metadata": {},
   "source": [
    "# Observações de aprendizado"
   ]
  },
  {
   "cell_type": "markdown",
   "metadata": {},
   "source": [
    "Queria deixar um adendo de um detalhe que confundiu minha cabeça, o numero total de iterações por epoch se da no código abaixo:"
   ]
  },
  {
   "cell_type": "markdown",
   "metadata": {},
   "source": [
    "O modelo avalia a acurácia a cada epoch(ou época, chame do que preferir), e os valores das variaveis que estão sendo alteradas(pesos e bias) mudam a cada iteração dentro do epoch"
   ]
  },
  {
   "cell_type": "code",
   "execution_count": 43,
   "metadata": {},
   "outputs": [
    {
     "data": {
      "text/plain": [
       "(600.0, 9600.0)"
      ]
     },
     "execution_count": 43,
     "metadata": {},
     "output_type": "execute_result"
    }
   ],
   "source": [
    "batch_size=100\n",
    "epochs=16\n",
    "\n",
    "total_de_iteracoes_por_epoch = len(x_treino)/batch_size\n",
    "total_de_iteracoes = total_de_iteracoes_por_epoch*epochs\n",
    "\n",
    "# O total de iterações por epoch é o total de vezes em que nosso modelo foi treinado por epoch(epoca), ou seja, o total de vezes em que os valores dos pesos e dos bias foram alterados por epoch\n",
    "# O total de iterações é o total de vezes que nosso modelo foi treinado\n",
    "total_de_iteracoes_por_epoch, total_de_iteracoes"
   ]
  },
  {
   "cell_type": "markdown",
   "metadata": {},
   "source": [
    "# Gráficos de perfomace\n",
    "\n",
    "Objetivos: Verificar a presença de underfiting e/ou overfiting"
   ]
  },
  {
   "cell_type": "code",
   "execution_count": 45,
   "metadata": {},
   "outputs": [
    {
     "data": {
      "image/png": "[encoded data removed]",
      "text/plain": [
       "<Figure size 640x480 with 1 Axes>"
      ]
     },
     "metadata": {},
     "output_type": "display_data"
    }
   ],
   "source": [
    "import matplotlib.pyplot as plt\n",
    "\n",
    "acc_treino = historico.history['acc']\n",
    "acc_validation = historico.history['val_acc']\n",
    "\n",
    "epochs = range(1, len(acc_treino)+1)\n",
    "\n",
    "plt.plot(epochs, acc_treino, 'g', label='Treino')\n",
    "plt.plot(epochs, acc_validation, 'r', label='Validacao')\n",
    "plt.grid(True)\n",
    "plt.legend()\n",
    "plt.title('Acuracia de Treino x Validação')\n",
    "plt.xlabel('Epoch')\n",
    "plt.ylabel('Acurácia')\n",
    "plt.show()"
   ]
  },
  {
   "cell_type": "markdown",
   "metadata": {},
   "source": [
    "Tomando com base esse gráfico vemos que aparentemente nosso modelo não está passando pelo processo de overfitting o que é uma boa notícia"
   ]
  }
 ],
 "metadata": {
  "kernelspec": {
   "display_name": "base",
   "language": "python",
   "name": "python3"
  },
  "language_info": {
   "codemirror_mode": {
    "name": "ipython",
    "version": 3
   },
   "file_extension": ".py",
   "mimetype": "text/x-python",
   "name": "python",
   "nbconvert_exporter": "python",
   "pygments_lexer": "ipython3",
   "version": "3.10.14"
  }
 },
 "nbformat": 4,
 "nbformat_minor": 2
}
